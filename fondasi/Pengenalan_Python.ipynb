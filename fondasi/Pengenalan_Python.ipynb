{
 "cells": [
  {
   "cell_type": "markdown",
   "metadata": {},
   "source": [
    "# Variabel, Tipe Data dan Print\n",
    "### Variable\n",
    "Variabel adalah lokasi memori yang disiapkan untuk menyimpan nilai-nilai.\n",
    "\n",
    "Penulisan variabel Python sendiri juga memiliki aturan tertentu, yaitu: \n",
    "- Karakter pertama harus berupa huruf atau garis bawah/underscore _ \n",
    "- Karakter selanjutnya dapat berupa huruf, garis bawah/underscore _ atau angka \n",
    "- variabel tidak boleh diawali angka dan hanya berisi huruf (a-z), angka (0-9) dan _\n",
    "- Karakter pada nama variabel bersifat sensitif (<tt>case-sensitif</tt>). Artinya huruf kecil dan huruf besar dibedakan. Sebagai contoh, variabel namaDepan dan namadepan adalah variabel yang berbeda\n",
    "\n",
    "Untuk mulai membuat variabel di Python caranya sangat mudah, Anda cukup menuliskan variabel lalu mengisinya dengan suatu nilai dengan cara menambahkan tanda sama dengan = diikuti dengan nilai yang ingin dimasukan.\n",
    "\n",
    "### Printing\n",
    "\n",
    "Dalam Python 3 untuk menampilkan output kita memerlukan syntax <tt>print</tt>. Perintah ini memungkinkan kita mencetak pesan kepada pengguna. Untuk mencetak beberapa teks Anda harus menyertakannya dalam \"tanda kutip\".\n"
   ]
  },
  {
   "cell_type": "code",
   "execution_count": 10,
   "metadata": {},
   "outputs": [
    {
     "name": "stdout",
     "output_type": "stream",
     "text": [
      "Hello World\n",
      "20\n",
      "5\n",
      "suhu: 42 derajat\n",
      "Thermometer\n",
      "Barometer\n",
      "27.5\n",
      "True\n",
      "10\n",
      "4\n",
      "4\n"
     ]
    }
   ],
   "source": [
    "# perintah print\n",
    "print(\"Hello World\")\n",
    "print(20)\n",
    "print(2 + 3)\n",
    "print(\"suhu:\", 42, \"derajat\")\n",
    "\n",
    "#nama_variabel = nilai_variabel\n",
    "#variabel bersifat case sensitif \n",
    "alat = \"Thermometer\" \n",
    "print(alat)\n",
    "Alat = \"Barometer\"\n",
    "print(Alat)\n",
    "suhu = 27.5\n",
    "print(suhu)\n",
    "\n",
    "hujan = True \n",
    "print(hujan)\n",
    "_var = 10\n",
    "print(_var)\n",
    "\n",
    "# menentukan variabel hasil dari operasi\n",
    "n = 2 + 2\n",
    "print(n)\n",
    "m = 2 * 2\n",
    "print(m)"
   ]
  },
  {
   "cell_type": "markdown",
   "metadata": {},
   "source": [
    "### Tipe Data Python\n",
    "\n",
    "Untuk mengetahui tipe data kita dapat menggunakan syntax <tt>type</tt>.\n",
    "\n",
    "Di bawah ini merupakan tipe-tipe data pada python\n",
    "- String : Merupakan data berupa teks. Data yang bertipe string harus diapit oleh tanda petik, baik tanda petik satu ('') mau pun tanda petik dua (\"\").\n",
    "\n",
    "\n"
   ]
  },
  {
   "cell_type": "code",
   "execution_count": 7,
   "metadata": {},
   "outputs": [
    {
     "name": "stdout",
     "output_type": "stream",
     "text": [
      "Thermometer\n",
      "Barometer\n",
      "<class 'str'>\n",
      "<class 'str'>\n"
     ]
    }
   ],
   "source": [
    "alat = \"Thermometer\" \n",
    "Alat = \"Barometer\"\n",
    "#menampilkan output variabel\n",
    "print(alat)\n",
    "print(Alat)\n",
    "#menampilkan output tipe data\n",
    "print(type(alat))\n",
    "print(type(Alat))"
   ]
  },
  {
   "cell_type": "markdown",
   "metadata": {},
   "source": [
    "- Number : ada 2 tipe data yaitu Integer dan Float.\n",
    "\n",
    "Integer mewakili bilangan bulat, seperti yang akan Anda gunakan saat menghitung, bisa positif atau negatif.\n",
    "\n",
    "Float adalah angka yang dinyatakan dalam desimal/pecahan, contohnya 2.1, 999.998, -0.000004 dll. Nilai 2.0 juga akan ditafsirkan sebagai float, tetapi nilai 2 saja (tanpa koma) tidak akan diartikan sebagai float tetapi sebagai bilangan bulat (integer)."
   ]
  },
  {
   "cell_type": "code",
   "execution_count": 8,
   "metadata": {},
   "outputs": [
    {
     "name": "stdout",
     "output_type": "stream",
     "text": [
      "29.5\n",
      "<class 'float'>\n",
      "1012\n",
      "<class 'int'>\n"
     ]
    }
   ],
   "source": [
    "# Float\n",
    "suhu = 29.5\n",
    "# Integers\n",
    "tekanan = 1012\n",
    "\n",
    "print(suhu)\n",
    "print(type(suhu))\n",
    "print(tekanan)\n",
    "print(type(tekanan))"
   ]
  },
  {
   "cell_type": "markdown",
   "metadata": {},
   "source": [
    "Menampilkan tipe data string dan number secara bersamaan dalam satu output:"
   ]
  },
  {
   "cell_type": "code",
   "execution_count": 13,
   "metadata": {},
   "outputs": [
    {
     "name": "stdout",
     "output_type": "stream",
     "text": [
      "Pengukuran suhu menggunakan alat  Thermometer  , dan suhu terukur adalah  27.5\n",
      "Pengukuran tekana menggunakan alat Barometer , dan tekanan terukur adalah 1012\n"
     ]
    }
   ],
   "source": [
    "# menggunakan tanda ',' \n",
    "print('Pengukuran suhu menggunakan alat ', alat,' , dan suhu terukur adalah ', suhu)\n",
    "#menggunakan + , tapi ada proses casting\n",
    "print('Pengukuran tekanan menggunakan alat '+Alat+' , dan tekanan terukur adalah '+str(tekanan))"
   ]
  },
  {
   "cell_type": "markdown",
   "metadata": {},
   "source": [
    "#### String format\n",
    "Ada tiga cara untuk melakukan pemformatan string.\n",
    "- Metode lama menggunakan placeholder menggunakan karakter '%' (modulo)\n",
    "- Teknik yang ditingkatkan menggunakan metode string .format ().\n",
    "- Menggunakan string literal yang diformat, disebut f-string.\n"
   ]
  },
  {
   "cell_type": "code",
   "execution_count": 19,
   "metadata": {},
   "outputs": [
    {
     "name": "stdout",
     "output_type": "stream",
     "text": [
      "Pengukuran kelembaban di Jayapura adalah 75 persen\n",
      "Curah hujan di Jayapura pada hari ini adalah 13.8 milimeter\n",
      "Suhu maksimal di Jayapura pada hari ini adalah 34.5 derajat celcius\n"
     ]
    }
   ],
   "source": [
    "kota = \"Jayapura\" #string\n",
    "rh = 75 # int\n",
    "ch = 13.8 # float\n",
    "suhu_max = 34.5 # float\n",
    "#Menggunakan karakter % -> %s \n",
    "print(\"Pengukuran kelembaban di %s adalah %s persen\" %(kota, rh))\n",
    "\n",
    "#Menggunakan metode .format()\n",
    "print(\"Curah hujan di {} pada hari ini adalah {} milimeter\".format(kota,ch))  \n",
    "\n",
    "#Menggunakan metode f-string\n",
    "print(f\"Suhu maksimal di {kota} pada hari ini adalah {suhu_max} derajat celcius\") \n",
    "\n"
   ]
  },
  {
   "cell_type": "markdown",
   "metadata": {},
   "source": [
    "apa perbedaan antara tipe data numerik dan tipe data teks (string)?\n",
    "\n",
    "Perbedaannya terletak pada fungsi dan cara mengoperasikannya.\n",
    "Misalkan kita ingin menambahkan dua buah variabel bertipe data numerik, yang kita dapatkan adalah hasil penjumlahannya.\n",
    "Berbeda jika kita menambahkan dua buah variabel bertipe data string (teks), yang kita dapatkan adalah hasil penggabungan keduanya."
   ]
  },
  {
   "cell_type": "code",
   "execution_count": 20,
   "metadata": {},
   "outputs": [
    {
     "name": "stdout",
     "output_type": "stream",
     "text": [
      "10\n",
      "55\n"
     ]
    }
   ],
   "source": [
    "# penjumlahan dua data numerik\n",
    "print(5 + 5) # output 10\n",
    "\n",
    "# penggabungan dua data string\n",
    "print(\"5\" + \"5\") # output 55"
   ]
  },
  {
   "cell_type": "markdown",
   "metadata": {},
   "source": [
    "- Booleans :mewakili benar atau salah, hanya ada dua nilai, yaitu <tt>True</tt> dan <tt>False</tt>."
   ]
  },
  {
   "cell_type": "code",
   "execution_count": 21,
   "metadata": {},
   "outputs": [
    {
     "name": "stdout",
     "output_type": "stream",
     "text": [
      "False\n",
      "True\n"
     ]
    }
   ],
   "source": [
    "a = 1>5\n",
    "b = 1<5\n",
    "\n",
    "print(a)\n",
    "print(b)"
   ]
  },
  {
   "cell_type": "markdown",
   "metadata": {},
   "source": [
    "- Tipe data array"
   ]
  },
  {
   "cell_type": "code",
   "execution_count": 2,
   "metadata": {},
   "outputs": [
    {
     "name": "stdout",
     "output_type": "stream",
     "text": [
      "25.6\n",
      "28.4\n"
     ]
    }
   ],
   "source": [
    "# Tipe data list\n",
    "suhu_jayapura = [25.6, 26.2, 27.7, 28.6, 29.2, 31.4, 32.2, 33.5, 31.1, 28.4]\n",
    "ch_jayapura = [2.4, 2.2, 14.5, 8.6, 10.2, 37.5, 6.2, 2.5, 0, 0]\n",
    "rh_jayapura = [90, 85, 92, 90, 92, 90, 85, 88, 87, 85]\n",
    "\n",
    "suhu_sorong = [26.7, 27.2, 26.7, 28.0, 29.2, 32.4, 33.2, 37.5, 31.1, 30.4]\n",
    "ch_sorong = [12.4, 22.2, 11.5, 6.2, 0, 0.5, 7.4, 6.5, 0, 0]\n",
    "rh_sorong = [84, 87, 90, 85, 92, 90, 84, 86, 88, 84]\n",
    "\n",
    "print(suhu_jayapura[0])\n",
    "print(suhu_jayapura[-1])"
   ]
  },
  {
   "cell_type": "code",
   "execution_count": 29,
   "metadata": {},
   "outputs": [
    {
     "name": "stdout",
     "output_type": "stream",
     "text": [
      "Tekanan terukur di Timika adalah 1013 milibar\n",
      "Kelembaban terukur di Timika adalah 80 %\n"
     ]
    }
   ],
   "source": [
    "#Tipe data dictionary\n",
    "timika = {'Suhu': 28.6, \n",
    "        'Curah Hujan': 15,\n",
    "        'Kelembaban': 80,\n",
    "        'Tekanan': 1013}\n",
    "\n",
    "\n",
    "print(f\"Tekanan terukur di Timika adalah {timika['Tekanan']} milibar\")\n",
    "print(f\"Kelembaban terukur di Timika adalah {timika['Kelembaban']} %\")\n",
    "\n"
   ]
  },
  {
   "cell_type": "markdown",
   "metadata": {},
   "source": [
    "## Pengambilan Keputusan (IF, ELIF, ELSE)\n",
    "Pada python ada beberapa statement/kondisi diantaranya adalah if, else dan elif. \n",
    "Kondisi if digunakan untuk mengeksekusi kode jika kondisi bernilai benar. Jika kondisi bernilai salah maka statement/kondisi if tidak akan di-eksekusi. \n",
    "Di mana if merupakan kondisi utama, sedangkan elif adalah kondisi kedua atau ketiga hingga ke-x, sedangkan else adalah kondisi terakhir di mana semua kondisi sebelumnya tidak ada yang terpenuhi.\n",
    "\n",
    "Bagian kondisi adalah sebuah variabel / atau nilai yang bertipe data boolean. Baik berupa nilai True/False secara langsung, atau pun sebuah ekspresi logika.\n",
    "\n",
    "Jika kondisi bernilai True, maka statements() akan dieksekusi oleh sistem."
   ]
  },
  {
   "cell_type": "code",
   "execution_count": 36,
   "metadata": {},
   "outputs": [
    {
     "name": "stdout",
     "output_type": "stream",
     "text": [
      "Hari ini tidak hujan\n"
     ]
    }
   ],
   "source": [
    "hujan = 0\n",
    "\n",
    "if hujan>0:\n",
    "    print('Hari ini hujan')\n",
    "else:\n",
    "    print('Hari ini tidak hujan')"
   ]
  },
  {
   "cell_type": "code",
   "execution_count": 31,
   "metadata": {},
   "outputs": [
    {
     "name": "stdout",
     "output_type": "stream",
     "text": [
      "Hujan Sedang\n"
     ]
    }
   ],
   "source": [
    "#kategori curah hujan harian dengan if elif else\n",
    "curah_hujan = float(input('Curah Hujan tiap jam = '))\n",
    "if curah_hujan >= 150.0:\n",
    "  print('Hujan Ekstrem')\n",
    "elif curah_hujan >= 100.0:\n",
    "  print('Hujan Sangat Lebat')\n",
    "elif curah_hujan >=50.0:\n",
    "  print( 'Hujan Lebat')\n",
    "elif curah_hujan >= 20.0:\n",
    "  print('Hujan Sedang')\n",
    "elif curah_hujan >= 0.5:\n",
    "  print('Hujan Ringan')\n",
    "else :\n",
    "  print('-')"
   ]
  },
  {
   "cell_type": "markdown",
   "metadata": {},
   "source": [
    "### Perulangan (for)\n",
    "Perulangan dalam dunia pemrograman adalah baris kode atau instruksi yang dieksekusi oleh komputer secara berulang-ulang sampai suatu kondisi tertentu terpenuhi. "
   ]
  },
  {
   "cell_type": "code",
   "execution_count": 42,
   "metadata": {},
   "outputs": [
    {
     "name": "stdout",
     "output_type": "stream",
     "text": [
      "Suhu udara di Sorong dalam Fahrenheit: 80.06 \n",
      "Suhu udara di Sorong dalam Fahrenheit: 80.96 \n",
      "Suhu udara di Sorong dalam Fahrenheit: 80.06 \n",
      "Suhu udara di Sorong dalam Fahrenheit: 82.4 \n",
      "Suhu udara di Sorong dalam Fahrenheit: 84.56 \n",
      "Suhu udara di Sorong dalam Fahrenheit: 90.32 \n",
      "Suhu udara di Sorong dalam Fahrenheit: 91.76 \n",
      "Suhu udara di Sorong dalam Fahrenheit: 99.5 \n",
      "Suhu udara di Sorong dalam Fahrenheit: 87.98 \n",
      "Suhu udara di Sorong dalam Fahrenheit: 86.72 \n"
     ]
    }
   ],
   "source": [
    "# menggunakan looping untuk perhitungan\n",
    "for suhu in suhu_sorong:\n",
    "    fahrenfeit = (suhu*9/5) + 32\n",
    "    print(f'Suhu udara di Sorong dalam Fahrenheit: {fahrenfeit} ')"
   ]
  },
  {
   "cell_type": "markdown",
   "metadata": {},
   "source": [
    "### Latihan 1\n",
    "Konversi suhu di Jayapura dan Sorong menjadi Kelvin dengan memanfaatkan looping!"
   ]
  },
  {
   "cell_type": "code",
   "execution_count": 38,
   "metadata": {},
   "outputs": [
    {
     "name": "stdout",
     "output_type": "stream",
     "text": [
      "Hari ini hujan\n",
      "Hari ini hujan\n",
      "Hari ini hujan\n",
      "Hari ini hujan\n",
      "Hari ini hujan\n",
      "Hari ini hujan\n",
      "Hari ini hujan\n",
      "Hari ini hujan\n",
      "Hari ini tidak hujan\n",
      "Hari ini tidak hujan\n"
     ]
    }
   ],
   "source": [
    "for hujan in ch_jayapura:\n",
    "    if hujan>0:\n",
    "        print('Hari ini hujan')\n",
    "    else:\n",
    "        print('Hari ini tidak hujan')\n"
   ]
  },
  {
   "cell_type": "markdown",
   "metadata": {},
   "source": [
    "### Latihan 2\n",
    "\n",
    "Asumsikan ch_sorong dan ch_jayapura adalah curah hujan tiap jam di kota sorong, dengan menggunakan kategori curah hujan yang telah diberikan di atas, tentukan bagaimana kategori curah hujan di Sorong dan Jayapura."
   ]
  },
  {
   "cell_type": "code",
   "execution_count": 22,
   "metadata": {},
   "outputs": [
    {
     "name": "stdout",
     "output_type": "stream",
     "text": [
      "[True, True, True, True, False, True, True, True, False, False]\n",
      "7\n"
     ]
    }
   ],
   "source": [
    "hari_hujan = [hujan > 0 for hujan in ch_sorong]\n",
    "print(hari_hujan)\n",
    "print(sum(hari_hujan))"
   ]
  },
  {
   "cell_type": "code",
   "execution_count": 14,
   "metadata": {},
   "outputs": [
    {
     "data": {
      "text/plain": [
       "[False, False, False, False, False, True, True, True, True, False]"
      ]
     },
     "execution_count": 14,
     "metadata": {},
     "output_type": "execute_result"
    }
   ],
   "source": [
    "lebih30 = [ suhu > 30 for suhu in suhu_jayapura]\n",
    "print(lebih30)"
   ]
  },
  {
   "cell_type": "code",
   "execution_count": 15,
   "metadata": {},
   "outputs": [
    {
     "name": "stdout",
     "output_type": "stream",
     "text": [
      "[31.4, 32.2, 33.5, 31.1]\n"
     ]
    }
   ],
   "source": [
    "lebih30 = [ suhu for suhu in suhu_jayapura if suhu > 30]\n",
    "print(lebih30)"
   ]
  },
  {
   "cell_type": "markdown",
   "metadata": {},
   "source": [
    "## Fungsi (function)\n",
    "Fungsi adalah blok kode yang dapat digunakan kembali untuk melakukan tugas tertentu. Fungsi membantu kita mengorganisasi kode, menghindari pengulangan, dan membuat kode lebih mudah dibaca dan dipelihara.\n",
    "\n",
    "Bagaimana Cara Membuat Fungsi?\n",
    "Untuk membuat fungsi di Python, kita menggunakan kata kunci def, diikuti oleh nama fungsi, tanda kurung (), dan tanda titik dua :. Di dalam tanda kurung, kita bisa menambahkan parameter (variabel input) jika diperlukan. Setelah itu, kita menuliskan blok kode yang ingin dijalankan oleh fungsi di dalam indentasi.\n",
    "\n",
    "Berikut adalah contoh sederhana:"
   ]
  },
  {
   "cell_type": "code",
   "execution_count": 46,
   "metadata": {},
   "outputs": [],
   "source": [
    "def daily_mean_temp(T07, T13, T18):\n",
    "    ''' Menghitung suhu rata-rata harian\n",
    "        Parameter:\n",
    "        -T07: Suhu pada jam 07\n",
    "        -T13: Suhu pada jam 13\n",
    "        -T18: Suhu pada jam 18'''\n",
    "    print((2*T07+T13+T18)/4)"
   ]
  },
  {
   "cell_type": "markdown",
   "metadata": {},
   "source": [
    "Cara memanggil function:"
   ]
  },
  {
   "cell_type": "code",
   "execution_count": 47,
   "metadata": {},
   "outputs": [
    {
     "name": "stdout",
     "output_type": "stream",
     "text": [
      "27.0\n"
     ]
    }
   ],
   "source": [
    "daily_mean_temp(25, 34, 24)"
   ]
  },
  {
   "cell_type": "markdown",
   "metadata": {},
   "source": [
    "Fungsi dengan Nilai Kembali (Return Value)\n",
    "Fungsi juga bisa mengembalikan nilai dengan menggunakan kata kunci return. Nilai yang dikembalikan bisa disimpan dalam variabel untuk digunakan nanti."
   ]
  },
  {
   "cell_type": "code",
   "execution_count": 48,
   "metadata": {},
   "outputs": [
    {
     "name": "stdout",
     "output_type": "stream",
     "text": [
      "27.900000000000002\n"
     ]
    }
   ],
   "source": [
    "def daily_mean_temp(T07, T13, T18):\n",
    "    ''' Menghitung suhu rata-rata harian\n",
    "        Parameter:\n",
    "        -T07: Suhu pada jam 07\n",
    "        -T13: Suhu pada jam 13\n",
    "        -T18: Suhu pada jam 18'''\n",
    "    Tt = (2*T07+T13+T18)/4\n",
    "    return Tt\n",
    "\n",
    "suhu_rata2= daily_mean_temp(26.4,33.6,25.2)\n",
    "\n",
    "print(suhu_rata2)"
   ]
  },
  {
   "cell_type": "markdown",
   "metadata": {},
   "source": [
    "### Latihan 3\n",
    "\n",
    "Buat sebuah fungsi untuk menghitung Dew Point (Td) dengan parameter input Suhu bola kering dan kelembaban."
   ]
  },
  {
   "cell_type": "markdown",
   "metadata": {},
   "source": [
    "# NumPy\n",
    "NumPy adalah sebuah pustaka (library) di Python yang digunakan untuk melakukan komputasi ilmiah dan matematika. \n",
    "\n",
    "Sebelum menggunakannya harus memanggil library NumPy dengan perintah import"
   ]
  },
  {
   "cell_type": "code",
   "execution_count": 50,
   "metadata": {},
   "outputs": [],
   "source": [
    "import numpy as np"
   ]
  },
  {
   "cell_type": "markdown",
   "metadata": {},
   "source": [
    "Contoh Operasi Statistika sederhana penggunaan numpy:"
   ]
  },
  {
   "cell_type": "code",
   "execution_count": 54,
   "metadata": {},
   "outputs": [
    {
     "name": "stdout",
     "output_type": "stream",
     "text": [
      "84.10000000000001\n",
      "87.0\n",
      "33.5\n",
      "25.6\n"
     ]
    }
   ],
   "source": [
    "# menghitung total curah hujan\n",
    "total_ch_jayapura = np.sum(ch_jayapura)\n",
    "print(total_ch_jayapura)\n",
    "\n",
    "# menghitung rata-rata kelembaban\n",
    "kelembaban_rata2_sorong = np.mean(rh_sorong)\n",
    "print(kelembaban_rata2_sorong)\n",
    "\n",
    "# menghituing nilai suhu maksimum\n",
    "suhu_max_jayapura = np.max(suhu_jayapura)\n",
    "print(suhu_max_jayapura)\n",
    "\n",
    "# menghituing nilai suhu minimum\n",
    "suhu_min_jayapura = np.min(suhu_jayapura)\n",
    "print(suhu_min_jayapura)"
   ]
  },
  {
   "cell_type": "markdown",
   "metadata": {},
   "source": [
    "Untuk mempelajari Numpy lebih lanjut bisa membuka web https://numpy.org/"
   ]
  },
  {
   "cell_type": "markdown",
   "metadata": {},
   "source": [
    "# Plotting dengan matplotlib\n",
    "Pustaka (library) plotting yang paling umum digunakan dengan Python saat ini adalah matplotlib.\n",
    "\n",
    "Ada banyak cara untuk membuat figur dan subplot dengan matplotlib, tetapi di sini kita akan membahas contoh dasar menggunakan pyplot. \n",
    "\n",
    "Seperti numpy, kita harus terlebih dahulu menginstall dan mengimport library matplotlib."
   ]
  },
  {
   "cell_type": "code",
   "execution_count": 56,
   "metadata": {},
   "outputs": [],
   "source": [
    "import matplotlib.pyplot as plt"
   ]
  },
  {
   "cell_type": "markdown",
   "metadata": {},
   "source": [
    "Contoh sederhana membuat time series line plot dalam matplotlib"
   ]
  },
  {
   "cell_type": "code",
   "execution_count": 57,
   "metadata": {},
   "outputs": [
    {
     "data": {
      "image/png": "[encoded data removed]",
      "text/plain": [
       "<Figure size 640x480 with 1 Axes>"
      ]
     },
     "metadata": {},
     "output_type": "display_data"
    }
   ],
   "source": [
    "x = np.arange(2,20,1)\n",
    "y=x**2\n",
    "\n",
    "#plt.style.use('dark_background')\n",
    "plt.plot(x, y) #plot sumbu\n",
    "plt.xlabel('Ini X') #membuat judul label X\n",
    "plt.ylabel('ini Y') #membuat judul label y\n",
    "plt.title('Ini JUDUL')\n",
    "plt.show()"
   ]
  },
  {
   "cell_type": "code",
   "execution_count": 60,
   "metadata": {},
   "outputs": [],
   "source": [
    "# Tipe data list\n",
    "suhu_jayapura = [25.6, 26.2, 27.7, 28.6, 29.2, 31.4, 32.2, 33.5, 31.1, 28.4]\n",
    "ch_jayapura = [2.4, 2.2, 14.5, 8.6, 10.2, 37.5, 6.2, 2.5, 0, 0]\n",
    "rh_jayapura = [90, 85, 92, 90, 92, 90, 85, 88, 87, 85]\n",
    "\n",
    "suhu_sorong = [26.7, 27.2, 26.7, 28.0, 29.2, 32.4, 33.2, 37.5, 31.1, 30.4]\n",
    "ch_sorong = [12.4, 22.2, 11.5, 6.2, 0, 0.5, 7.4, 6.5, 0, 0]\n",
    "rh_sorong = [84, 87, 90, 85, 92, 90, 84, 86, 88, 84]\n",
    "\n",
    "jam = ['00', '01','02','03', '04','05','06', '07','08','09']\n",
    "tanggal = np.arange(1,11,1)"
   ]
  },
  {
   "cell_type": "code",
   "execution_count": 63,
   "metadata": {},
   "outputs": [
    {
     "data": {
      "image/png": "[encoded data removed]",
      "text/plain": [
       "<Figure size 640x480 with 1 Axes>"
      ]
     },
     "metadata": {},
     "output_type": "display_data"
    }
   ],
   "source": [
    "plt.plot(tanggal, ch_sorong) #plot sumbu\n",
    "plt.xlabel('Tanggal') #membuat judul label X\n",
    "plt.ylabel('Curah hujan(mm)') #membuat judul label y\n",
    "plt.title('Curah Hujan Dasarian I Sorong')\n",
    "plt.show()"
   ]
  },
  {
   "cell_type": "markdown",
   "metadata": {},
   "source": [
    "Contoh sederhana menggunakan bar plot:"
   ]
  },
  {
   "cell_type": "code",
   "execution_count": 66,
   "metadata": {},
   "outputs": [
    {
     "data": {
      "image/png": "[encoded data removed]",
      "text/plain": [
       "<Figure size 640x480 with 1 Axes>"
      ]
     },
     "metadata": {},
     "output_type": "display_data"
    }
   ],
   "source": [
    "plt.bar(jam, suhu_jayapura) #plot sumbu\n",
    "plt.xlabel('Jam (UTC)') #membuat judul label X\n",
    "plt.ylabel('Suhu Udara (C))') #membuat judul label y\n",
    "plt.title('Kelembaban Udara Sorong pukul 00 - 09 WIT')\n",
    "plt.show()"
   ]
  }
 ],
 "metadata": {
  "kernelspec": {
   "display_name": "Python 3",
   "language": "python",
   "name": "python3"
  },
  "language_info": {
   "codemirror_mode": {
    "name": "ipython",
    "version": 3
   },
   "file_extension": ".py",
   "mimetype": "text/x-python",
   "name": "python",
   "nbconvert_exporter": "python",
   "pygments_lexer": "ipython3",
   "version": "3.11.9"
  }
 },
 "nbformat": 4,
 "nbformat_minor": 2
}
