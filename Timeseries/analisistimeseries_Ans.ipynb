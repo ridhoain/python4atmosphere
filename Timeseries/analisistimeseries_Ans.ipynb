{
 "cells": [
  {
   "cell_type": "markdown",
   "id": "c506a58c-8587-4c3c-9e66-cf1790ff2daf",
   "metadata": {},
   "source": [
    "# Analisis Timeseries data Meteorologi dengan Matplotlib"
   ]
  },
  {
   "cell_type": "markdown",
   "id": "94170e4e-e3af-4448-9309-a33908661bc0",
   "metadata": {},
   "source": [
    "Timeseries adalah analisis sekumpulan data pengamatan/observasi yang diurutkan berdasarkan waktu. Contoh : Timeseries data suhu perjam selama tahun 2023, Timeseries curah hujan harian DJF, dll.​\n",
    "\n",
    "Karakteristik Utama : Urutan waktu, Interval waktu, Tren, Musiman, Cyclical​\n",
    "\n",
    "Data yang digunakan : data_megaentry_2023.csv"
   ]
  },
  {
   "cell_type": "markdown",
   "id": "0956cb60-3fb9-4e0b-97e7-73882301545a",
   "metadata": {},
   "source": [
    "## Plotting Parameter Cuaca setahun"
   ]
  },
  {
   "cell_type": "markdown",
   "id": "1abd43ac-c657-4435-b555-8c13afdf8deb",
   "metadata": {},
   "source": [
    "### 1. Plotting Data Timeseries Td (Titik Embun) 2023"
   ]
  },
  {
   "cell_type": "markdown",
   "id": "e1421c1d-16ab-429a-8df4-113293cb9454",
   "metadata": {},
   "source": [
    "### Import Module"
   ]
  },
  {
   "cell_type": "code",
   "execution_count": null,
   "id": "489841f7-d747-4616-8892-ed02471772a6",
   "metadata": {},
   "outputs": [],
   "source": [
    "#Import module yang diperlukan\n",
    "import pandas as pd\n",
    "import matplotlib.pyplot as plt\n",
    "from matplotlib.dates import DateFormatter\n",
    "import warnings\n",
    "warnings.simplefilter(\"ignore\", UserWarning)\n"
   ]
  },
  {
   "cell_type": "markdown",
   "id": "d9204e82-5e15-4b38-8288-9cfe9e5ab49e",
   "metadata": {},
   "source": [
    "### Load data csv"
   ]
  },
  {
   "cell_type": "code",
   "execution_count": null,
   "id": "d8dc0066-365e-46db-8c92-1032c0841290",
   "metadata": {},
   "outputs": [],
   "source": [
    "# Load data megaentry\n",
    "df = pd.read_csv('data_megaentry_2023.csv', usecols=['DATA TIMESTAMP', 'TEMP DEWPOINT C TDTDTD'])\n",
    "\n",
    "df"
   ]
  },
  {
   "cell_type": "markdown",
   "id": "9af4389b-e8f4-4681-a76b-e85e1e1296a8",
   "metadata": {},
   "source": [
    "### Konversi kolom 'DATA TIMESTAMP' ke format datetime"
   ]
  },
  {
   "cell_type": "code",
   "execution_count": null,
   "id": "b2501a7c-dc68-4043-932b-34a71419e2db",
   "metadata": {},
   "outputs": [],
   "source": [
    "# Convert kolom 'DATA TIMESTAMP' column to datetime format\n",
    "df['DATA TIMESTAMP'] = pd.to_datetime(df['DATA TIMESTAMP'])\n",
    "\n",
    "df['DATA TIMESTAMP']"
   ]
  },
  {
   "cell_type": "markdown",
   "id": "89257de7-8093-460f-9922-083e8a14530b",
   "metadata": {},
   "source": [
    "### Ekstrak data Td dan konversi ke numerik, dan handling error"
   ]
  },
  {
   "cell_type": "code",
   "execution_count": null,
   "id": "b5637838-8368-41be-abe4-5e437c4076f9",
   "metadata": {},
   "outputs": [],
   "source": [
    "# Extract the dewpoint temperature (Td) and convert it to numeric, handling errors\n",
    "df['TEMP DEWPOINT C TD'] = pd.to_numeric(df['TEMP DEWPOINT C TDTDTD'], errors='coerce')\n",
    "df['TEMP DEWPOINT C TD']"
   ]
  },
  {
   "cell_type": "markdown",
   "id": "1889aae5-9257-4dc1-8897-befe24fd3e15",
   "metadata": {},
   "source": [
    "### Plotting timeseries"
   ]
  },
  {
   "cell_type": "code",
   "execution_count": null,
   "id": "4743bd40-34e4-450f-b563-806c15d5b295",
   "metadata": {},
   "outputs": [],
   "source": [
    "# Plotting\n",
    "plt.figure(figsize=(10, 6))\n",
    "plt.plot(df['DATA TIMESTAMP'], df['TEMP DEWPOINT C TDTDTD'], marker='o', linestyle='-', color='blue')\n",
    "\n",
    "# Formatting the plot\n",
    "plt.title('Timeseries Dewpoint Temperature (Td) 2023 ')\n",
    "plt.xlabel('Time')\n",
    "plt.ylabel('Dewpoint Temperature (°C)')\n",
    "plt.xticks(rotation=90)\n",
    "plt.gca().xaxis.set_major_formatter(DateFormatter(\"%Y-%m-%d %H:%M:%S\"))\n",
    "\n",
    "# Show grid\n",
    "plt.grid(True)\n",
    "\n",
    "# Display the plot\n",
    "plt.tight_layout()\n",
    "plt.show()"
   ]
  },
  {
   "cell_type": "markdown",
   "id": "854c56d6-4b85-4c92-9183-873f50b7afed",
   "metadata": {},
   "source": [
    "## 2. Plotting Seasonal Td Periode MJJ (May Juni Juli) 2023 "
   ]
  },
  {
   "cell_type": "markdown",
   "id": "564857fd-94da-4b1d-8bbe-a1c21d56be00",
   "metadata": {},
   "source": [
    "### Filter Seasonal Dewpoint Temperature MJJ"
   ]
  },
  {
   "cell_type": "code",
   "execution_count": null,
   "id": "1028de02-d5fb-433b-9048-63fd56be2a85",
   "metadata": {},
   "outputs": [],
   "source": [
    "# Filter data untuk MJJ ( May, Juni, and Juli)\n",
    "df_mjj = df[df['DATA TIMESTAMP'].dt.month.isin([5, 6, 7])]\n",
    "\n",
    "df_mjj"
   ]
  },
  {
   "cell_type": "markdown",
   "id": "99dc3b2f-1d53-4c15-b63f-c9a1cbad333c",
   "metadata": {},
   "source": [
    "### Plotting Seasonal "
   ]
  },
  {
   "cell_type": "code",
   "execution_count": null,
   "id": "efa5467b-4b45-4a50-a8a8-c24f58900f94",
   "metadata": {},
   "outputs": [],
   "source": [
    "# Plotting\n",
    "plt.figure(figsize=(10, 6))\n",
    "plt.plot(df_mjj['DATA TIMESTAMP'], df_mjj['TEMP DEWPOINT C TDTDTD'], marker='o', linestyle='-', color='blue')\n",
    "\n",
    "plt.title('Dewpoint Temperature MJJ Period')\n",
    "plt.xlabel('Date')\n",
    "plt.ylabel('Dewpoint Temperature (°C)')\n",
    "\n",
    "plt.tight_layout()\n",
    "plt.show()"
   ]
  },
  {
   "cell_type": "markdown",
   "id": "842125ae-e02b-46df-ab14-aee630c37afd",
   "metadata": {},
   "source": [
    "## Latihan 1\n",
    "Buatlah Plot Seasonal Parameter Temperatur pada periode JJA (Juni Juli Agustus) 2023 dengan menggunakan data yang sama dengan sebelumnya"
   ]
  },
  {
   "cell_type": "code",
   "execution_count": null,
   "id": "6fb60070",
   "metadata": {},
   "outputs": [],
   "source": [
    "df2 = pd.read_csv('data_megaentry_2023.csv', usecols=['DATA TIMESTAMP', 'TEMP DRYBULB C TTTTTT'])\n",
    "df2['DATA TIMESTAMP'] = pd.to_datetime(df2['DATA TIMESTAMP'])\n",
    "\n",
    "# Extract the temperature (T) and convert it to numeric, handling errors\n",
    "df2['TEMP DRYBULB C TTTTTT'] = pd.to_numeric(df2['TEMP DRYBULB C TTTTTT'], errors='coerce')\n",
    "df2['TEMP DRYBULB C TTTTTT']\n",
    "\n",
    "# Filter data untuk MJJ ( May, Juni, and Juli)\n",
    "df2_JJA = df2[df2['DATA TIMESTAMP'].dt.month.isin([6, 7, 8])]\n",
    "\n",
    "df2_JJA\n",
    "\n",
    "# Plotting\n",
    "plt.figure(figsize=(10, 6))\n",
    "plt.plot(df2_JJA['DATA TIMESTAMP'], df2_JJA['TEMP DRYBULB C TTTTTT'], marker='o', linestyle='-', color='blue')\n",
    "\n",
    "plt.title('Temperature JJA Period')\n",
    "plt.xlabel('Date')\n",
    "plt.ylabel('Temperature (°C)')\n",
    "\n",
    "plt.tight_layout()\n",
    "plt.show()"
   ]
  },
  {
   "cell_type": "markdown",
   "id": "89b0af17-1c35-4831-aaeb-6472de4e688a",
   "metadata": {},
   "source": [
    "## 3. Plotting Diurnal Td pada tanggal 22 Mei 2023"
   ]
  },
  {
   "cell_type": "markdown",
   "id": "34e59da3-cf12-4f1b-ac40-dbc9de96556a",
   "metadata": {},
   "source": [
    "### Filter Diurnal Dewpoint Temperature (Td)"
   ]
  },
  {
   "cell_type": "code",
   "execution_count": null,
   "id": "6ef163a1-d6f8-4d1d-b4f2-ea805aa87bc1",
   "metadata": {},
   "outputs": [],
   "source": [
    "# Filter data for May 22, 2023\n",
    "df_may22 = df[(df['DATA TIMESTAMP'].dt.year == 2023) & \n",
    "              (df['DATA TIMESTAMP'].dt.month == 5) & \n",
    "              (df['DATA TIMESTAMP'].dt.day == 22)]"
   ]
  },
  {
   "cell_type": "markdown",
   "id": "5395301a-36db-4f1c-a575-e608a3015968",
   "metadata": {},
   "source": [
    "### Plotting Diurnal"
   ]
  },
  {
   "cell_type": "code",
   "execution_count": null,
   "id": "a09980bc-16cc-4bf0-b9b3-d9869329e894",
   "metadata": {},
   "outputs": [],
   "source": [
    "# Plotting\n",
    "plt.figure(figsize=(10, 6))\n",
    "plt.plot(df_may22['DATA TIMESTAMP'], df_may22['TEMP DEWPOINT C TDTDTD'], marker='o', linestyle='-', color='blue')\n",
    "\n",
    "plt.title('Diurnal Dewpoint Temperature on May 22, 2023')\n",
    "plt.xlabel('Time')\n",
    "plt.ylabel('Dewpoint Temperature (°C)')\n",
    "\n",
    "plt.tight_layout()\n",
    "plt.show()"
   ]
  },
  {
   "cell_type": "markdown",
   "id": "6ea6c848-fd85-4cb0-a945-938b8d2d5328",
   "metadata": {},
   "source": [
    "## Latihan 2\n",
    "Buatlah Plot Diurnal Parameter Td pada tanggal 31 Juli 2023 dengan menggunakan data yang sama dengan sebelumnya"
   ]
  },
  {
   "cell_type": "code",
   "execution_count": null,
   "id": "7fa75bcf",
   "metadata": {},
   "outputs": [],
   "source": [
    "# Filter data for July 31, 2023\n",
    "df_july31 = df[(df['DATA TIMESTAMP'].dt.year == 2023) & \n",
    "              (df['DATA TIMESTAMP'].dt.month == 7) & \n",
    "              (df['DATA TIMESTAMP'].dt.day == 31)]\n",
    "\n",
    "# Plotting\n",
    "plt.figure(figsize=(10, 6))\n",
    "plt.plot(df_july31['DATA TIMESTAMP'], df_july31['TEMP DEWPOINT C TDTDTD'], marker='o', linestyle='-', color='blue')\n",
    "\n",
    "plt.title('Diurnal Dewpoint Temperature on July 31, 2023')\n",
    "plt.xlabel('Time')\n",
    "plt.ylabel('Dewpoint Temperature (°C)')\n",
    "\n",
    "plt.tight_layout()\n",
    "plt.show()"
   ]
  },
  {
   "cell_type": "markdown",
   "id": "bab19a41-7dab-482c-8f8b-506ee065037a",
   "metadata": {},
   "source": [
    "## Plotting Windrose"
   ]
  },
  {
   "cell_type": "markdown",
   "id": "4b851853-e963-42c1-a2eb-f47cdcb15b72",
   "metadata": {},
   "source": [
    "## 1. Plot Windrose Tahunan"
   ]
  },
  {
   "cell_type": "markdown",
   "id": "2f829083-d94b-4e05-a33d-e5791e0c00aa",
   "metadata": {},
   "source": [
    "### Import Module"
   ]
  },
  {
   "cell_type": "code",
   "execution_count": null,
   "id": "c86887a5-2808-4eda-9e77-361c0691cee3",
   "metadata": {},
   "outputs": [],
   "source": [
    "#Import module yang diperlukan\n",
    "import pandas as pd\n",
    "from windrose import WindroseAxes\n",
    "import matplotlib.pyplot as plt\n",
    "import numpy as np\n",
    "import warnings\n",
    "warnings.simplefilter(\"ignore\", UserWarning)\n"
   ]
  },
  {
   "cell_type": "markdown",
   "id": "11654810-bc54-474c-8d07-9d2230e39a0c",
   "metadata": {},
   "source": [
    "### Load Data Csv"
   ]
  },
  {
   "cell_type": "code",
   "execution_count": null,
   "id": "f5deff46-baeb-4d46-ada2-27309db0a7a2",
   "metadata": {},
   "outputs": [],
   "source": [
    "# Load data\n",
    "df = pd.read_csv('data_megaentry_2023.csv', usecols=['WIND DIR DEG DD', 'WIND SPEED FF'])\n",
    "df"
   ]
  },
  {
   "cell_type": "markdown",
   "id": "65e2a018-731d-49ee-8aa0-2f13f791c586",
   "metadata": {},
   "source": [
    "## Cleaning, Filtering, dan Menghilangkan missing data"
   ]
  },
  {
   "cell_type": "code",
   "execution_count": null,
   "id": "00101388-832c-4ae0-8821-d0a4ac44e020",
   "metadata": {},
   "outputs": [],
   "source": [
    "# Proses pembersihan data:  menghilangkan missing atau nilai non-numeric\n",
    "df = df.dropna()\n",
    "df['WIND DIR DEG DD'] = pd.to_numeric(df['WIND DIR DEG DD'], errors='coerce')\n",
    "df['WIND SPEED FF'] = pd.to_numeric(df['WIND SPEED FF'], errors='coerce')\n",
    "df = df.dropna()\n",
    "\n",
    "# Exclude rows where wind direction is 0 degrees\n",
    "df = df[df['WIND DIR DEG DD'] > 0]\n",
    "\n",
    "# Convert wind direction and speed to numpy arrays\n",
    "wind_direction = df['WIND DIR DEG DD'].values\n",
    "wind_speed = df['WIND SPEED FF'].values\n"
   ]
  },
  {
   "cell_type": "markdown",
   "id": "ee5d1e43-2e5f-4b20-821f-8572c57088ff",
   "metadata": {},
   "source": [
    "## Plotting Windrose"
   ]
  },
  {
   "cell_type": "code",
   "execution_count": null,
   "id": "4773af09-b220-4f6b-ba9a-2f94ff7abb9c",
   "metadata": {},
   "outputs": [],
   "source": [
    "# Create a wind rose plot\n",
    "fig = plt.figure(figsize=(8, 8))\n",
    "ax = WindroseAxes.from_ax(fig=fig)\n",
    "ax.bar(wind_direction, wind_speed, normed=True, opening=0.8, edgecolor='white')\n",
    "ax.set_legend()\n",
    "\n",
    "plt.title('Wind Rose Plot 2023')\n",
    "plt.show()"
   ]
  },
  {
   "cell_type": "markdown",
   "id": "0f61f083-7a9f-4130-88c7-7d9b4a0da888",
   "metadata": {},
   "source": [
    "## Plotting Trend Temperature "
   ]
  },
  {
   "cell_type": "markdown",
   "id": "23d0a166-936c-4c4a-8ce3-53e7545a0ce4",
   "metadata": {},
   "source": [
    "### Import Module"
   ]
  },
  {
   "cell_type": "code",
   "execution_count": null,
   "id": "f2b469e7-2176-4e32-9ac8-bdb76d2f666f",
   "metadata": {},
   "outputs": [],
   "source": [
    "#Import module yang dibutuhkan\n",
    "import pandas as pd\n",
    "import matplotlib.pyplot as plt\n",
    "import numpy as np\n",
    "from scipy.stats import linregress\n",
    "import warnings\n",
    "warnings.simplefilter(\"ignore\", UserWarning)"
   ]
  },
  {
   "cell_type": "markdown",
   "id": "f831397f-2e69-453e-bd3c-dd7161489003",
   "metadata": {},
   "source": [
    "### Load data csv"
   ]
  },
  {
   "cell_type": "code",
   "execution_count": null,
   "id": "9d341c5f-9fa1-4570-86e1-772fa5e28e90",
   "metadata": {},
   "outputs": [],
   "source": [
    "# Load the dataset\n",
    "df = pd.read_csv('data_megaentry_2023.csv', usecols=['DATA TIMESTAMP', 'TEMP DRYBULB C TTTTTT'])\n",
    "df"
   ]
  },
  {
   "cell_type": "markdown",
   "id": "0772c51f-e3b8-4b81-8b71-b581d7ebcf74",
   "metadata": {},
   "source": [
    "### Convert and extract month data dari 'DATA TIMESTAMP'"
   ]
  },
  {
   "cell_type": "code",
   "execution_count": null,
   "id": "5361b3fc-d5e8-49da-a17c-3793f213cfae",
   "metadata": {},
   "outputs": [],
   "source": [
    "# Convert the 'DATA TIMESTAMP' column to datetime format and extract month\n",
    "df['DATA TIMESTAMP'] = pd.to_datetime(df['DATA TIMESTAMP'])\n",
    "df['Month'] = df['DATA TIMESTAMP'].dt.month\n"
   ]
  },
  {
   "cell_type": "markdown",
   "id": "b881c46e-ae6d-442c-b905-eb7dc207ca2f",
   "metadata": {},
   "source": [
    "### Filter Seasonal data MAM, JJA, SON"
   ]
  },
  {
   "cell_type": "code",
   "execution_count": null,
   "id": "2e0b1019-10aa-4b6d-aebf-a99fddb31a47",
   "metadata": {},
   "outputs": [],
   "source": [
    "# Filter data for each season\n",
    "mam = df[df['Month'].isin([3, 4, 5])]\n",
    "jja = df[df['Month'].isin([6, 7, 8])]\n",
    "son = df[df['Month'].isin([9, 10, 11])]"
   ]
  },
  {
   "cell_type": "markdown",
   "id": "46a5de7c-ffce-4e3d-9634-9df50f8d5224",
   "metadata": {},
   "source": [
    "### Pendefinisian Function untuk Plotting dan Looping"
   ]
  },
  {
   "cell_type": "code",
   "execution_count": null,
   "id": "4d467931-4763-4d88-8f73-af7e6be03582",
   "metadata": {},
   "outputs": [],
   "source": [
    "# Function to plot each season\n",
    "def plot_season(season_df, season_name):\n",
    "    plt.figure(figsize=(10, 6))\n",
    "    plt.plot(season_df['DATA TIMESTAMP'], season_df['TEMP DRYBULB C TTTTTT'], label='Temperature', marker='o', linestyle='-', color='blue')\n",
    "    \n",
    "    # Calculate and plot trend line\n",
    "    x = np.arange(len(season_df))\n",
    "    y = season_df['TEMP DRYBULB C TTTTTT']\n",
    "    slope, intercept, r_value, p_value, std_err = linregress(x, y)\n",
    "    plt.plot(season_df['DATA TIMESTAMP'], intercept + slope*x, 'r', label='Trend line')\n",
    "    \n",
    "    # Display properties\n",
    "    max_temp = y.max()\n",
    "    min_temp = y.min()\n",
    "    avg_temp = y.mean()\n",
    "    plt.title(f'{season_name} Season Temperature\\nMax: {max_temp}°C, Min: {min_temp}°C, Avg: {avg_temp:.2f}°C')\n",
    "    plt.xlabel('Time')\n",
    "    plt.ylabel('Temperature (°C)')\n",
    "    plt.legend(loc='upper right')\n",
    "    plt.xticks(rotation=45)\n",
    "    plt.tight_layout()\n",
    "    plt.show()\n",
    "\n",
    "# Plot each season\n",
    "plot_season(mam, 'MAM')\n",
    "plot_season(jja, 'JJA')\n",
    "plot_season(son, 'SON')"
   ]
  },
  {
   "cell_type": "markdown",
   "id": "8723199d-f561-4e35-84b8-75ddf4f79815",
   "metadata": {},
   "source": [
    "## Latihan 3\n",
    "Buatlah Plot Seasonal Windrose MAM, JJA dan SON 2023 dengan menggunakan data yang sama dengan sebelumnya"
   ]
  },
  {
   "cell_type": "code",
   "execution_count": null,
   "id": "769b9a21",
   "metadata": {},
   "outputs": [],
   "source": [
    "# Import necessary modules\n",
    "import pandas as pd\n",
    "from windrose import WindroseAxes\n",
    "import matplotlib.pyplot as plt\n",
    "import numpy as np\n",
    "import warnings\n",
    "warnings.simplefilter(\"ignore\", UserWarning)\n",
    "\n",
    "# Load data\n",
    "df = pd.read_csv('data_megaentry_2023.csv', usecols=['DATA TIMESTAMP', 'WIND DIR DEG DD', 'WIND SPEED FF'])\n",
    "\n",
    "# Convert 'DATA TIMESTAMP' to datetime\n",
    "df['DATA TIMESTAMP'] = pd.to_datetime(df['DATA TIMESTAMP'], errors='coerce')\n",
    "\n",
    "# Proses pembersihan data: menghilangkan missing atau nilai non-numeric\n",
    "df = df.dropna()\n",
    "df['WIND DIR DEG DD'] = pd.to_numeric(df['WIND DIR DEG DD'], errors='coerce')\n",
    "df['WIND SPEED FF'] = pd.to_numeric(df['WIND SPEED FF'], errors='coerce')\n",
    "df = df.dropna()\n",
    "\n",
    "# Exclude rows where wind direction is 0 degrees\n",
    "df = df[df['WIND DIR DEG DD'] > 0]\n",
    "\n",
    "# Define a function to plot windrose for a given season\n",
    "def plot_windrose(df, season, title):\n",
    "    wind_direction = df['WIND DIR DEG DD'].values\n",
    "    wind_speed = df['WIND SPEED FF'].values\n",
    "\n",
    "    fig = plt.figure(figsize=(8, 8))\n",
    "    ax = WindroseAxes.from_ax(fig=fig)\n",
    "    ax.bar(wind_direction, wind_speed, normed=True, opening=0.8, edgecolor='white')\n",
    "    ax.set_legend()\n",
    "    plt.title(title)\n",
    "    plt.show()\n",
    "\n",
    "# Filter data for each season and plot windrose\n",
    "# MAM: March-April-May\n",
    "df_mam = df[df['DATA TIMESTAMP'].dt.month.isin([3, 4, 5])]\n",
    "plot_windrose(df_mam, 'MAM', 'Wind Rose Plot MAM (March-April-May)')\n",
    "\n",
    "# JJA: June-July-August\n",
    "df_jja = df[df['DATA TIMESTAMP'].dt.month.isin([6, 7, 8])]\n",
    "plot_windrose(df_jja, 'JJA', 'Wind Rose Plot JJA (June-July-August)')\n",
    "\n",
    "# SON: September-October-November\n",
    "df_son = df[df['DATA TIMESTAMP'].dt.month.isin([9, 10, 11])]\n",
    "plot_windrose(df_son, 'SON', 'Wind Rose Plot SON (September-October-November)')\n",
    "\n"
   ]
  },
  {
   "cell_type": "markdown",
   "id": "485cedd4-2668-467e-9611-7edf7ed45229",
   "metadata": {},
   "source": [
    "## Plotting Monthly Average Temperature"
   ]
  },
  {
   "cell_type": "markdown",
   "id": "208e15ff-efc7-443a-b5de-8041cb8f95c9",
   "metadata": {},
   "source": [
    "### Import Module"
   ]
  },
  {
   "cell_type": "code",
   "execution_count": null,
   "id": "2890a471-fa69-45cd-96d6-c32068c4012b",
   "metadata": {},
   "outputs": [],
   "source": [
    "import pandas as pd\n",
    "import matplotlib.pyplot as plt\n",
    "import numpy as np\n",
    "from datetime import datetime\n",
    "import warnings\n",
    "warnings.simplefilter(\"ignore\", UserWarning)"
   ]
  },
  {
   "cell_type": "markdown",
   "id": "5fbbb750-1e0b-4ab5-8499-10685b27d1b8",
   "metadata": {},
   "source": [
    "### Load Data CSV"
   ]
  },
  {
   "cell_type": "code",
   "execution_count": null,
   "id": "899a91a1-9b06-4a91-a03f-572abac94ce3",
   "metadata": {},
   "outputs": [],
   "source": [
    "# Load the dataset\n",
    "df = pd.read_csv('data_megaentry_2023.csv', usecols=['DATA TIMESTAMP', 'TEMP DRYBULB C TTTTTT', 'TEMP MAX C TXTXTX', 'TEMP MIN C TNTNTN'])"
   ]
  },
  {
   "cell_type": "markdown",
   "id": "5951a02f-933e-476d-bdfc-db680462617f",
   "metadata": {},
   "source": [
    "### Konversi kolom 'DATA TIMESTAMP' menjadi format datetime, ekstrak data dan kalkulasi statistik bulanan"
   ]
  },
  {
   "cell_type": "code",
   "execution_count": null,
   "id": "3c86ee96-09c9-4180-b7f4-985ceb3c0bd0",
   "metadata": {},
   "outputs": [],
   "source": [
    "# Convert the 'DATA TIMESTAMP' column to datetime format\n",
    "df['DATA TIMESTAMP'] = pd.to_datetime(df['DATA TIMESTAMP'])\n",
    "\n",
    "# Extract month and hour from 'DATA TIMESTAMP'\n",
    "df['Month'] = df['DATA TIMESTAMP'].dt.month\n",
    "df['Hour'] = df['DATA TIMESTAMP'].dt.hour\n",
    "\n",
    "# Ensure temperature columns are numeric\n",
    "df['TEMP DRYBULB C TTTTTT'] = pd.to_numeric(df['TEMP DRYBULB C TTTTTT'], errors='coerce')\n",
    "df['TEMP MAX C TXTXTX'] = pd.to_numeric(df['TEMP MAX C TXTXTX'], errors='coerce')\n",
    "df['TEMP MIN C TNTNTN'] = pd.to_numeric(df['TEMP MIN C TNTNTN'], errors='coerce')\n",
    "\n",
    "# Group by month and calculate statistics for dry bulb temperature\n",
    "monthly_stats = df.groupby('Month')['TEMP DRYBULB C TTTTTT'].agg(['mean', 'max', 'min']).reset_index()"
   ]
  },
  {
   "cell_type": "markdown",
   "id": "3082ce30-31c1-450c-962c-b377501ba786",
   "metadata": {},
   "source": [
    "### Plotting monthly averaged"
   ]
  },
  {
   "cell_type": "code",
   "execution_count": null,
   "id": "27371357-ecfb-4b96-a4f5-d666d6ad38c3",
   "metadata": {},
   "outputs": [],
   "source": [
    "plt.figure(figsize=(12, 6))\n",
    "\n",
    "# Plotting the average dry bulb temperature\n",
    "plt.plot(monthly_stats['Month'], monthly_stats['mean'], label='Average Dry Bulb Temperature', marker='o', linestyle='-')\n",
    "\n",
    "# Adding statistical annotations\n",
    "for i, row in monthly_stats.iterrows():\n",
    "    plt.text(row['Month'], row['mean'], f\"Max: {row['max']}\\nMin: {row['min']}\\nMean: {row['mean']:.2f}\", ha='center')\n",
    "\n",
    "plt.title('Monthly Average Dry Bulb Temperature')\n",
    "plt.xlabel('Month')\n",
    "plt.ylabel('Temperature (°C)')\n",
    "plt.xticks(np.arange(1, 13), ['Jan', 'Feb', 'Mar', 'Apr', 'May', 'Jun', 'Jul', 'Aug', 'Sep', 'Oct', 'Nov', 'Dec'])\n",
    "plt.legend()\n",
    "plt.grid(True)\n",
    "plt.tight_layout()\n",
    "plt.show()"
   ]
  },
  {
   "cell_type": "markdown",
   "id": "92565bdb-f357-4048-a27b-9cb9f07edfa4",
   "metadata": {},
   "source": [
    "## Latihan 4\n",
    "Buatlah Plot Monthly average parameter tekanan udara 2023 dengan menggunakan data yang sama dengan sebelumnya"
   ]
  },
  {
   "cell_type": "code",
   "execution_count": null,
   "id": "3c0c8e5a",
   "metadata": {},
   "outputs": [],
   "source": [
    "# Load the dataset\n",
    "df = pd.read_csv('data_megaentry_2023.csv', usecols=['DATA TIMESTAMP', 'PRESSURE QFF MB DERIVED'])\n",
    "\n",
    "# Convert the 'DATA TIMESTAMP' column to datetime format\n",
    "df['DATA TIMESTAMP'] = pd.to_datetime(df['DATA TIMESTAMP'])\n",
    "\n",
    "# Extract month and hour from 'DATA TIMESTAMP'\n",
    "df['Month'] = df['DATA TIMESTAMP'].dt.month\n",
    "df['Hour'] = df['DATA TIMESTAMP'].dt.hour\n",
    "\n",
    "# Ensure temperature columns are numeric\n",
    "df['PRESSURE QFF MB DERIVED'] = pd.to_numeric(df['PRESSURE QFF MB DERIVED'], errors='coerce')\n",
    "\n",
    "# Group by month and calculate statistics for dry bulb temperature\n",
    "monthly_stats = df.groupby('Month')['PRESSURE QFF MB DERIVED'].agg(['mean', 'max', 'min']).reset_index()\n",
    "\n",
    "plt.figure(figsize=(12, 6))\n",
    "\n",
    "# Plotting the average dry bulb temperature\n",
    "plt.plot(monthly_stats['Month'], monthly_stats['mean'], label='Average Pressure (mb)', marker='o', linestyle='-')\n",
    "\n",
    "# Adding statistical annotations\n",
    "for i, row in monthly_stats.iterrows():\n",
    "    plt.text(row['Month'], row['mean'], f\"Max: {row['max']}\\nMin: {row['min']}\\nMean: {row['mean']:.2f}\", ha='center')\n",
    "\n",
    "plt.title('Monthly Average Pressure (mb)')\n",
    "plt.xlabel('Month')\n",
    "plt.ylabel('Pressure (mb)')\n",
    "plt.xticks(np.arange(1, 13), ['Jan', 'Feb', 'Mar', 'Apr', 'May', 'Jun', 'Jul', 'Aug', 'Sep', 'Oct', 'Nov', 'Dec'])\n",
    "plt.legend(loc='upper left')\n",
    "plt.grid(True)\n",
    "plt.tight_layout()\n",
    "plt.show()"
   ]
  },
  {
   "cell_type": "markdown",
   "id": "971eb6f2-50ac-4720-87ec-0f1ce0945df9",
   "metadata": {},
   "source": [
    "## Plotting Daily Accumulation Hujan dan Kategorisasi"
   ]
  },
  {
   "cell_type": "code",
   "execution_count": null,
   "id": "485bead0-cc08-427e-9c3b-7341cbb00ca0",
   "metadata": {},
   "outputs": [],
   "source": [
    "import pandas as pd\n",
    "import matplotlib.pyplot as plt\n",
    "import numpy as np\n",
    "import calendar\n",
    "import warnings\n",
    "warnings.simplefilter(\"ignore\", UserWarning)"
   ]
  },
  {
   "cell_type": "markdown",
   "id": "869a639f-329b-44f4-a637-0f0d37d554c5",
   "metadata": {},
   "source": [
    "### Load data CSV"
   ]
  },
  {
   "cell_type": "code",
   "execution_count": null,
   "id": "0ae9b9d6-f1e3-4840-84ee-e844a6770703",
   "metadata": {},
   "outputs": [],
   "source": [
    "# Load the dataset\n",
    "df = pd.read_csv('data_megaentry_2023.csv', usecols=['DATA TIMESTAMP', 'RAINFALL LAST MM'])"
   ]
  },
  {
   "cell_type": "markdown",
   "id": "dfa8bbab-fa9b-4532-9378-2fe00d204c3d",
   "metadata": {},
   "source": [
    "### Konversi kolom 'DATA TIMESTAMP' menjadi format datetime, ekstrak data dan kalkulasi akumulasi hujan "
   ]
  },
  {
   "cell_type": "code",
   "execution_count": null,
   "id": "875aa97f-c352-475d-856a-48050ba7899b",
   "metadata": {},
   "outputs": [],
   "source": [
    "# Convert 'DATA TIMESTAMP' to datetime and extract month and day\n",
    "df['DATA TIMESTAMP'] = pd.to_datetime(df['DATA TIMESTAMP'])\n",
    "df['Month'] = df['DATA TIMESTAMP'].dt.month\n",
    "df['Day'] = df['DATA TIMESTAMP'].dt.day\n",
    "\n",
    "# Replace 8888 with 0 and convert to numeric\n",
    "df['RAINFALL LAST MM'] = df['RAINFALL LAST MM'].replace(8888, 0)\n",
    "df['RAINFALL LAST MM'] = pd.to_numeric(df['RAINFALL LAST MM'], errors='coerce').fillna(0)"
   ]
  },
  {
   "cell_type": "markdown",
   "id": "5ca080e3-5768-4e2c-8d1f-ff40d1348999",
   "metadata": {},
   "source": [
    "### Membuat Fungsi Plotting dan Looping dan kategorisasi"
   ]
  },
  {
   "cell_type": "code",
   "execution_count": null,
   "id": "2180e440-23dc-43ef-b16e-38b3787a5edc",
   "metadata": {},
   "outputs": [],
   "source": [
    "# Function to plot daily rainfall for a given month\n",
    "def plot_daily_rainfall_for_month(month_number):\n",
    "    # Filter data for the specified month\n",
    "    monthly_data = df[df['Month'] == month_number]\n",
    "    \n",
    "    # Accumulate daily rainfall\n",
    "    daily_rainfall = monthly_data.groupby('Day')['RAINFALL LAST MM'].sum()\n",
    "    \n",
    "    # Plotting\n",
    "    plt.figure(figsize=(10, 6))\n",
    "    daily_rainfall.plot(kind='bar', color='skyblue', label='Daily Rainfall')\n",
    "    \n",
    "    # Adding horizontal lines for rainfall classification\n",
    "    plt.axhline(20, color='green', linestyle='--', label='Light Rain (<20 mm/day)')\n",
    "    plt.axhline(50, color='yellow', linestyle='--', label='Moderate Rain (20-50 mm/day)')\n",
    "    plt.axhline(100, color='orange', linestyle='--', label='Heavy Rain (50-100 mm/day)')\n",
    "    plt.axhline(100, color='red', linestyle='-', label='Extreme Rain (>100 mm/day)')\n",
    "    \n",
    "    plt.title(f'Daily Rainfall Accumulation for {calendar.month_name[month_number]}')\n",
    "    plt.xlabel('Day')\n",
    "    plt.ylabel('Rainfall (mm)')\n",
    "    plt.legend(loc='upper right')\n",
    "    plt.tight_layout()\n",
    "    \n",
    "    # Show the plot\n",
    "    plt.show()\n",
    "\n",
    "# Plot daily rainfall for each month\n",
    "for month in range(1, 13):\n",
    "    plot_daily_rainfall_for_month(month)"
   ]
  },
  {
   "cell_type": "markdown",
   "id": "eb042dff-fc78-484c-888b-1005b7355180",
   "metadata": {},
   "source": [
    "## Latihan 5\n",
    "Buatlah Plot Kategorisasi ENSO dengan menggunakan data indeks nino 3.4 yang terdapat di github"
   ]
  },
  {
   "cell_type": "code",
   "execution_count": 31,
   "id": "d3cfc455",
   "metadata": {},
   "outputs": [
    {
     "data": {
      "image/png": "[encoded data removed]",
      "text/plain": [
       "<Figure size 1400x700 with 1 Axes>"
      ]
     },
     "metadata": {},
     "output_type": "display_data"
    }
   ],
   "source": [
    "import pandas as pd\n",
    "import matplotlib.pyplot as plt\n",
    "\n",
    "# Load the data\n",
    "df = pd.read_csv('nino34_data.csv')\n",
    "\n",
    "# Ensure the data is sorted by year and month\n",
    "df = df.sort_values(by=['year', 'month'])\n",
    "\n",
    "# Create a datetime column for plotting\n",
    "df['date'] = pd.to_datetime(df[['year', 'month']].assign(day=1))\n",
    "\n",
    "# Plot the time series\n",
    "plt.figure(figsize=(14, 7))\n",
    "plt.plot(df['date'], df['nino 3.4'], label='Niño 3.4 Index', color='blue')\n",
    "\n",
    "# Add horizontal lines for ENSO categorization\n",
    "plt.axhline(y=0.5, color='orange', linestyle='--', label='Weak El Niño (0.5°C to 0.9°C)')\n",
    "plt.axhline(y=1.0, color='orange', linestyle='-', label='Moderate El Niño (1.0°C to 1.4°C)')\n",
    "plt.axhline(y=1.5, color='red', linestyle='--', label='Strong El Niño (1.5°C to 1.9°C)')\n",
    "plt.axhline(y=2.0, color='red', linestyle='-', label='Very Strong El Niño (>2.0°C)')\n",
    "plt.axhline(y=-0.5, color='green', linestyle='--', label='Weak La Niña (-0.5°C to -0.9°C)')\n",
    "plt.axhline(y=-1.0, color='green', linestyle='-', label='Moderate La Niña (-1.0°C to -1.4°C)')\n",
    "plt.axhline(y=-1.5, color='blue', linestyle='--', label='Strong La Niña (-1.5°C to -1.9°C)')\n",
    "plt.axhline(y=-2.0, color='blue', linestyle='-', label='Very Strong La Niña (<-2.0°C)')\n",
    "\n",
    "# Add labels and title\n",
    "plt.xlabel('Date')\n",
    "plt.ylabel('Niño 3.4 Index (°C)')\n",
    "plt.title('Niño 3.4 Index Time Series with ENSO Categorization')\n",
    "plt.legend(loc='upper left')\n",
    "plt.grid(True)\n",
    "\n",
    "# Show the plot\n",
    "plt.show()"
   ]
  },
  {
   "cell_type": "markdown",
   "id": "dda48fbd-d70d-423a-9b30-32e54cce0867",
   "metadata": {},
   "source": [
    "### Import module yang diperlukan"
   ]
  },
  {
   "cell_type": "code",
   "execution_count": null,
   "id": "8320c4ce-3f8f-45af-a180-6e926488ce55",
   "metadata": {},
   "outputs": [],
   "source": [
    "import pandas as pd\n",
    "import matplotlib.pyplot as plt\n",
    "import numpy as np\n",
    "import warnings\n",
    "warnings.simplefilter(\"ignore\", UserWarning)"
   ]
  },
  {
   "cell_type": "markdown",
   "id": "8117342d-aa39-474b-ae00-369e31d8e3d6",
   "metadata": {},
   "source": [
    "### Konversi kolom 'DATA TIMESTAMP' menjadi format datetime, ekstrak data dan kalkulasi akumulasi hujan harian dan curah hujan per 3 jam"
   ]
  },
  {
   "cell_type": "code",
   "execution_count": null,
   "id": "5c4e770f-8797-42fc-82de-4332b66442e3",
   "metadata": {},
   "outputs": [],
   "source": [
    "# Convert 'DATA TIMESTAMP' to datetime and filter for March 2, 2023\n",
    "df['DATA TIMESTAMP'] = pd.to_datetime(df['DATA TIMESTAMP'])\n",
    "df = df[(df['DATA TIMESTAMP'] >= '2023-03-02 00:00:00') & (df['DATA TIMESTAMP'] <= '2023-03-02 23:59:59')]\n",
    "\n",
    "# Replace 8888 with 0 and convert to numeric\n",
    "df['RAINFALL LAST MM'] = df['RAINFALL LAST MM'].replace(8888, 0)\n",
    "df['RAINFALL LAST MM'] = pd.to_numeric(df['RAINFALL LAST MM'], errors='coerce').fillna(0)\n",
    "\n",
    "# Calculate the cumulative sum of rainfall\n",
    "df['CUMULATIVE RAINFALL'] = df['RAINFALL LAST MM'].cumsum()"
   ]
  },
  {
   "cell_type": "markdown",
   "id": "04b2447c-3c46-401a-a23f-68a8ddbffc45",
   "metadata": {},
   "source": [
    "### Plotting "
   ]
  },
  {
   "cell_type": "code",
   "execution_count": null,
   "id": "02999618-321a-47d6-a64e-978d947ea9de",
   "metadata": {},
   "outputs": [],
   "source": [
    "# Plotting\n",
    "plt.figure(figsize=(12, 6))\n",
    "\n",
    "# Plot 3-hourly rainfall data\n",
    "plt.plot(df['DATA TIMESTAMP'], df['RAINFALL LAST MM'], label='3-Hourly Rainfall (mm)', marker='o', linestyle='-', color='blue')\n",
    "\n",
    "# Plot cumulative rainfall data\n",
    "plt.plot(df['DATA TIMESTAMP'], df['CUMULATIVE RAINFALL'], label='Cumulative Rainfall (mm)', marker='x', linestyle='--', color='red')\n",
    "\n",
    "# Formatting the plot\n",
    "plt.title('3-Hourly and Cumulative Rainfall for March 2, 2023')\n",
    "plt.xlabel('Time')\n",
    "plt.ylabel('Rainfall (mm)')\n",
    "plt.xticks(rotation=45)\n",
    "plt.legend()\n",
    "plt.grid(True)\n",
    "plt.tight_layout()\n",
    "\n",
    "# Show the plot\n",
    "plt.show()"
   ]
  },
  {
   "cell_type": "markdown",
   "id": "e73c0136-f94e-49a3-b5ba-dbda3af67058",
   "metadata": {},
   "source": [
    "## Plotting Monthly Accumulation Hujan"
   ]
  },
  {
   "cell_type": "markdown",
   "id": "0dd2b1ba-6782-4d92-be07-2b2baa9a3195",
   "metadata": {},
   "source": [
    "### Ekstrak data monthly accumulation hujan "
   ]
  },
  {
   "cell_type": "code",
   "execution_count": null,
   "id": "f94e70f9-7731-4fd4-b4e1-dfc543fa28c8",
   "metadata": {},
   "outputs": [],
   "source": [
    "# Load the dataset\n",
    "df = pd.read_csv('data_megaentry_2023.csv', usecols=['DATA TIMESTAMP', 'RAINFALL LAST MM'])\n",
    "\n",
    "# Convert 'DATA TIMESTAMP' to datetime format\n",
    "df['DATA TIMESTAMP'] = pd.to_datetime(df['DATA TIMESTAMP'])\n",
    "\n",
    "# Extract month from 'DATA TIMESTAMP'\n",
    "df['Month'] = df['DATA TIMESTAMP'].dt.month\n",
    "\n",
    "# Replace 8888 with 0 in 'RAINFALL LAST MM'\n",
    "df['RAINFALL LAST MM'] = df['RAINFALL LAST MM'].replace(8888, 0)\n",
    "\n",
    "# Convert 'RAINFALL LAST MM' to numeric, just in case it's not\n",
    "df['RAINFALL LAST MM'] = pd.to_numeric(df['RAINFALL LAST MM'], errors='coerce').fillna(0)\n",
    "\n",
    "# Group by month and sum the rainfall\n",
    "monthly_rainfall = df.groupby('Month')['RAINFALL LAST MM'].sum()\n"
   ]
  },
  {
   "cell_type": "markdown",
   "id": "ce6a15d5-3e93-4e86-a09b-3e7c52950d3e",
   "metadata": {},
   "source": [
    "### Plotting "
   ]
  },
  {
   "cell_type": "code",
   "execution_count": null,
   "id": "89213c53-0819-41e3-8ba5-e2e48c7fa8e5",
   "metadata": {},
   "outputs": [],
   "source": [
    "# Plotting\n",
    "plt.figure(figsize=(10, 6))\n",
    "monthly_rainfall.plot(kind='bar', color='skyblue')\n",
    "plt.title('Monthly Rainfall Accumulation 2023')\n",
    "plt.xlabel('Month')\n",
    "plt.ylabel('Total Rainfall (mm)')\n",
    "plt.xticks(ticks=range(12), labels=['Jan', 'Feb', 'Mar', 'Apr', 'May', 'Jun', 'Jul', 'Aug', 'Sep', 'Oct', 'Nov', 'Dec'], rotation=45)\n",
    "plt.tight_layout()\n",
    "\n",
    "# Show the plot\n",
    "plt.show()"
   ]
  },
  {
   "cell_type": "markdown",
   "id": "ce5c663f-0112-48f4-98ab-ad025742e5b3",
   "metadata": {},
   "source": [
    "## Menemukan List Kejadian Hujan Harian berdasarkan kategori "
   ]
  },
  {
   "cell_type": "markdown",
   "id": "ecdb52cd-b601-4ceb-af16-1472a1fbdeb2",
   "metadata": {},
   "source": [
    "### Ekstrak data tanggal daily accumulation hujan dan kategorisasi hujan "
   ]
  },
  {
   "cell_type": "code",
   "execution_count": null,
   "id": "a4493b92-7ac1-4ab1-9ac6-5c83945907dd",
   "metadata": {},
   "outputs": [],
   "source": [
    "# Convert 'DATA TIMESTAMP' to datetime and extract date (without time)\n",
    "df['DATA TIMESTAMP'] = pd.to_datetime(df['DATA TIMESTAMP']).dt.date\n",
    "\n",
    "# Replace 8888 with 0 in 'RAINFALL LAST MM'\n",
    "df['RAINFALL LAST MM'] = df['RAINFALL LAST MM'].replace(8888, 0)\n",
    "\n",
    "# Group by date and sum the rainfall to get daily accumulation\n",
    "daily_rainfall = df.groupby('DATA TIMESTAMP')['RAINFALL LAST MM'].sum().reset_index()\n",
    "\n",
    "# Categorize the days based on rainfall amount\n",
    "no_rain_days = daily_rainfall[daily_rainfall['RAINFALL LAST MM'] == 0]['DATA TIMESTAMP'].tolist()\n",
    "light_rain_days = daily_rainfall[(daily_rainfall['RAINFALL LAST MM'] > 0) & (daily_rainfall['RAINFALL LAST MM'] < 20)]['DATA TIMESTAMP'].tolist()\n",
    "moderate_rain_days = daily_rainfall[(daily_rainfall['RAINFALL LAST MM'] >= 20) & (daily_rainfall['RAINFALL LAST MM'] <= 50)]['DATA TIMESTAMP'].tolist()\n",
    "heavy_rain_days = daily_rainfall[(daily_rainfall['RAINFALL LAST MM'] > 50) & (daily_rainfall['RAINFALL LAST MM'] <= 100)]['DATA TIMESTAMP'].tolist()\n",
    "extreme_rain_days = daily_rainfall[daily_rainfall['RAINFALL LAST MM'] > 100]['DATA TIMESTAMP'].tolist()\n"
   ]
  },
  {
   "cell_type": "markdown",
   "id": "e1501bcb-9e42-4ffa-81e3-054267ce14d3",
   "metadata": {},
   "source": [
    "### Print tanggal kejadian hujan berdasarkan kategori"
   ]
  },
  {
   "cell_type": "code",
   "execution_count": null,
   "id": "ab72dd65-33fc-4349-9cf2-f508a6b113fd",
   "metadata": {},
   "outputs": [],
   "source": [
    "print('heavy rain :', heavy_rain_days)"
   ]
  },
  {
   "cell_type": "markdown",
   "id": "beae45ac-ea4d-4157-a57c-ca3ab9d313e5",
   "metadata": {},
   "source": [
    "# Latihan 6\n",
    "Buatlah list bulan kejadian Elnino Moderate dengan menggunakan data indeks nino 3.4 yang terdapat di github"
   ]
  },
  {
   "cell_type": "raw",
   "id": "e41ada4c-2c43-4070-802f-0957796b739a",
   "metadata": {},
   "source": [
    "** Your code here **"
   ]
  },
  {
   "cell_type": "markdown",
   "id": "d3716ab0",
   "metadata": {},
   "source": [
    "El Niño\n",
    "Weak El Niño: Anomali suhu permukaan laut di wilayah Nino 3.4 antara +0.5°C hingga +0.9°C.\n",
    "Moderate El Niño: Anomali suhu permukaan laut di wilayah Nino 3.4 antara +1.0°C hingga +1.4°C.\n",
    "Strong El Niño: Anomali suhu permukaan laut di wilayah Nino 3.4 antara +1.5°C hingga +1.9°C.\n",
    "Very Strong El Niño: Anomali suhu permukaan laut di wilayah Nino 3.4 lebih dari +2.0°C.\n",
    "La Niña\n",
    "Weak La Niña: Anomali suhu permukaan laut di wilayah Nino 3.4 antara -0.5°C hingga -0.9°C.\n",
    "Moderate La Niña: Anomali suhu permukaan laut di wilayah Nino 3.4 antara -1.0°C hingga -1.4°C.\n",
    "Strong La Niña: Anomali suhu permukaan laut di wilayah Nino 3.4 antara -1.5°C hingga -1.9°C.\n",
    "Very Strong La Niña: Anomali suhu permukaan laut di wilayah Nino 3.4 lebih dari -2.0°C."
   ]
  },
  {
   "cell_type": "code",
   "execution_count": null,
   "id": "153e031f",
   "metadata": {},
   "outputs": [],
   "source": [
    "import pandas as pd\n",
    "\n",
    "# Load the data\n",
    "df = pd.read_csv('nino34_data (1).csv')\n",
    "\n",
    "# Ensure the data is sorted by year and month\n",
    "df = df.sort_values(by=['year', 'month'])\n",
    "\n",
    "# Filter for Moderate El Niño (Niño 3.4 index between +1.0°C and +1.4°C)\n",
    "moderate_el_nino = df[(df['nino 3.4'] >= 1.0) & (df['nino 3.4'] <= 1.4)]\n",
    "\n",
    "# Output the results\n",
    "print(\"List of times when Moderate El Niño occurred:\")\n",
    "print(moderate_el_nino[['year', 'month', 'nino 3.4']])\n"
   ]
  }
 ],
 "metadata": {
  "kernelspec": {
   "display_name": "base",
   "language": "python",
   "name": "python3"
  },
  "language_info": {
   "codemirror_mode": {
    "name": "ipython",
    "version": 3
   },
   "file_extension": ".py",
   "mimetype": "text/x-python",
   "name": "python",
   "nbconvert_exporter": "python",
   "pygments_lexer": "ipython3",
   "version": "3.11.4"
  }
 },
 "nbformat": 4,
 "nbformat_minor": 5
}
