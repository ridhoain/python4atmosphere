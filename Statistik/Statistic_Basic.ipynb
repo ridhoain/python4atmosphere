{
 "cells": [
  {
   "cell_type": "markdown",
   "metadata": {},
   "source": [
    "# Import Libraries"
   ]
  },
  {
   "cell_type": "code",
   "execution_count": null,
   "metadata": {},
   "outputs": [],
   "source": [
    "import pandas as pd\n",
    "import numpy as np\n",
    "import matplotlib.pyplot as plt\n",
    "import scipy.stats as sps\n",
    "import seaborn as sns\n",
    "\n",
    "import warnings\n",
    "warnings.simplefilter(\"ignore\", UserWarning)"
   ]
  },
  {
   "cell_type": "markdown",
   "metadata": {},
   "source": [
    "## Baca data\n",
    "File `*.csv` dan `*.ipynb` berada dalam folder yang sama untuk memudahkan pembacaan data"
   ]
  },
  {
   "cell_type": "code",
   "execution_count": null,
   "metadata": {},
   "outputs": [],
   "source": [
    "# Read data\n",
    "data = pd.read_csv('data_megaentry_2023.csv')"
   ]
  },
  {
   "cell_type": "markdown",
   "metadata": {},
   "source": [
    "## Mengganti format dan nama\n",
    "Menjadikan format tanggal dengan menggunakan `pd.to_datetime`.\n",
    "\n",
    "Mengganti nama dengan menggunakan `rename`."
   ]
  },
  {
   "cell_type": "code",
   "execution_count": null,
   "metadata": {},
   "outputs": [],
   "source": [
    "# Mengganti format DATA TIMESTAMP menjadi format tanggal\n",
    "data['DATE'] = pd.to_datetime(data['DATA TIMESTAMP'])\n",
    "\n",
    "# Mengganti nama header sesuai keinginan\n",
    "data = data.rename(columns={'RAINFALL 24H RRRR': 'RRRR', 'TEMP MIN C TNTNTN': 'TNTN'})"
   ]
  },
  {
   "cell_type": "markdown",
   "metadata": {},
   "source": [
    "## Memilih data dan waktu\n",
    "Memilih data dengan syarat jam bisa menggunakan `dt.hour`. Jika ingin memilih data dengan syarat bulan bisa menggunakna `dt.month`. \n",
    "\n",
    "Hal ini bisa di lakukan karena kita sudah mengubah format DATE menjadi format tanggal.\n"
   ]
  },
  {
   "cell_type": "code",
   "execution_count": null,
   "metadata": {},
   "outputs": [],
   "source": [
    "# Memilih data tanggal, hujan dan suhu minimum\n",
    "data_24 = data[['DATE', 'RRRR', 'TNTN']]\n",
    "\n",
    "# Memilih data pada pukul 00 UTC\n",
    "data_24 = data_24[data_24['DATE'].dt.hour == 0]"
   ]
  },
  {
   "cell_type": "markdown",
   "metadata": {},
   "source": [
    "## Filter data curah hujan\n",
    "Filter data curah hujan di atas 0 mm."
   ]
  },
  {
   "cell_type": "code",
   "execution_count": null,
   "metadata": {},
   "outputs": [],
   "source": [
    "# Memfilter data hujan di atas 0 mm. Supaya data hujan 0 itu diabaikan atau hilang.\n",
    "data_24_non_0 = data_24[data_24['RRRR'] > 0]"
   ]
  },
  {
   "cell_type": "markdown",
   "metadata": {},
   "source": [
    "Ada beberapa cara Filter waktu yang dapat digunakan, seperti Filter data curah hujan berdasarkan bulan dapat menggunakan `dt.month`. Filter dengan menggunakan urutan waktu bisa menggunakan `iloc`. Filter data curah hujan berdasarkan spesific tanggal `dt.date`. \n",
    "\n"
   ]
  },
  {
   "cell_type": "code",
   "execution_count": null,
   "metadata": {},
   "outputs": [],
   "source": [
    "# Filter berdasarkan bulan\n",
    "feb_data = data_24[data_24['DATE'].dt.month == 2]\n",
    "\n",
    "# Filter berdasarkan urutan waktu\n",
    "sel_data = data_24.iloc[1:91]\n",
    "\n",
    "# Filter berdasarkan waktu spesifik\n",
    "start_date = pd.to_datetime('2023-02-01T00:00:00.000Z')\n",
    "end_date = pd.to_datetime('2023-06-01T00:00:00.000Z')\n",
    "\n",
    "# Filter untuk 1 tanggal\n",
    "select_1_date = data_24[data_24['DATE'].dt.date == start_date.date()]\n",
    "\n",
    "# Filter untuk range data antara tanggal mulai dan akhir\n",
    "range_date = data_24[(data_24['DATE'] >= start_date) & (data_24['DATE'] <= end_date)]\n",
    "\n",
    "# Filter untuk beberapa tanggal\n",
    "multi_date = data_24[data_24['DATE'].dt.date.isin([start_date.date(), end_date.date()])]"
   ]
  },
  {
   "cell_type": "markdown",
   "metadata": {},
   "source": [
    "## Replace data\n",
    "mereplace suatu nilai dapat menggunakan `replace`. Jika tidak ada nilai *(NaN)*, dapat kita ubah menjadi sebuah nilai dengan menggunakan `fillna`. Jika ingin menghapus semua data *NaN*, bisa menggunakan `dropna`.  "
   ]
  },
  {
   "cell_type": "code",
   "execution_count": null,
   "metadata": {},
   "outputs": [],
   "source": [
    "# Replace nilai RRRR 9999 dan 8888 menjadi 0\n",
    "data_24['RRRR'] = data_24['RRRR'].replace([9999, 8888], 0)\n",
    "\n",
    "# Menghapus NaN data agar tidak dihitung\n",
    "data_24_non_nan = data_24.dropna()\n",
    "\n",
    "# Replace NaN data menjadi 0\n",
    "data_24 = data_24.fillna(0)\n",
    "\n",
    "# mengganti nama agar mempermudah\n",
    "time = data_24['DATE']\n",
    "prec = data_24['RRRR']\n",
    "tmin = data_24['TNTN']"
   ]
  },
  {
   "cell_type": "markdown",
   "metadata": {},
   "source": [
    "## Pengolahan Statistik\n",
    "Ada berbagai pengolahan statistik sederhana yang dapat digunakan seperti `mean, max, min, variance, standard deviation, skewness, kurtosis, sum` dan `percentile`."
   ]
  },
  {
   "cell_type": "code",
   "execution_count": null,
   "metadata": {},
   "outputs": [],
   "source": [
    "# data length\n",
    "count_data = len(prec)\n",
    "print(f'Length of data: {count_data}')\n",
    "\n",
    "# Mean data\n",
    "data_mean = np.mean(prec)\n",
    "print(f'Mean Precipitation using numpy: {data_mean:.2f}')\n",
    "\n",
    "# Max data\n",
    "data_max = np.max(prec)\n",
    "print(f'Max Precipitation: {data_max:.2f}')\n",
    "\n",
    "# Min data\n",
    "data_min = np.min(prec)\n",
    "print(f'Min Precipitation: {data_min:.2f}')\n",
    "\n",
    "# Variance data\n",
    "data_var = np.var(prec)\n",
    "print(f'Variance Precipitation: {data_var:.2f}')\n",
    "\n",
    "# Standard deviation data\n",
    "data_std = np.std(prec)\n",
    "print(f'Standard Deviation Precipitation: {data_std:.2f}')\n",
    "\n",
    "# sum data\n",
    "data_sum = np.sum(prec)\n",
    "print(f'Sum Precipitation: {data_sum:.2f}')\n",
    "\n",
    "# Skewness data\n",
    "data_skew = sps.skew(prec, bias=True)\n",
    "print(f'Skewness Precipitation: {data_skew:.2f}')\n",
    "\n",
    "# Kurtosis data\n",
    "data_kurtosis = sps.kurtosis(prec, bias=True)\n",
    "print(f'Kurtosis Precipitation: {data_kurtosis:.2f}')\n",
    "\n",
    "# Percentile 90\n",
    "percentile_90 = np.percentile(prec, 90)\n",
    "print(f'Precentile 90: {percentile_90:.2f}')\n"
   ]
  },
  {
   "cell_type": "markdown",
   "metadata": {},
   "source": [
    "## Menghitung jumlah data dengan sebuah kondisi\n",
    "menggunakan `sum` dapat menghitung total jumlah data yang memenuhi syarat."
   ]
  },
  {
   "cell_type": "code",
   "execution_count": null,
   "metadata": {},
   "outputs": [],
   "source": [
    "# Menghitung jumlah hujan diatas nilai rata-rata\n",
    "count_mean_rain = np.sum((prec >= data_mean))\n",
    "print(f'Total precipitation greater than mean: {count_mean_rain}')\n",
    "\n",
    "# Menghitung jumlah hujan di atas nilai percentile 90\n",
    "count_percentile_rain = np.sum((prec >= percentile_90))\n",
    "print(f'Total percipitation greater than Percentile 90: {count_percentile_rain}')\n",
    "\n",
    "# Menghitung jumlah curah hujan diantara nilai rata-rata dan percentil 90\n",
    "count_rain_conditionally = np.sum((prec >= data_mean) & (prec <=percentile_90))\n",
    "print(f'Total percipitation conditionally: {count_rain_conditionally}')"
   ]
  },
  {
   "cell_type": "markdown",
   "metadata": {},
   "source": [
    "## Plotting Timeseries menggunakan `Matplotlib`\n",
    "Ploting time series dapat menggunakan `plot`. Selain itu, dapat menambah keterangan seperti `xlabel, ylabel, legend` dan `title`. `axhline` digunakan untuk menambahkan garis secara horizontal pada grafik. Selain itu, untuk membuat garis bentuknya berbeda-beda dapat menggantikan `linestyle` pada baris `axhline`."
   ]
  },
  {
   "cell_type": "code",
   "execution_count": null,
   "metadata": {},
   "outputs": [],
   "source": [
    "# Plot time series\n",
    "plt.figure(figsize=(12, 6))\n",
    "plt.plot(time, prec, label='Precipitation')\n",
    "plt.title('Time Series Precipitation', fontsize=20)\n",
    "plt.xlabel('time')\n",
    "plt.ylabel('mm')\n",
    "plt.axhline(data_mean, color='red', linestyle='--', label='mean')\n",
    "plt.axhline(data_std, color='orange', linestyle=':', label='standard deviation')\n",
    "plt.axhline(percentile_90, color='green', linestyle='-.', label='percentile 90')\n",
    "plt.legend(loc='best')\n",
    "plt.show()"
   ]
  },
  {
   "cell_type": "markdown",
   "metadata": {},
   "source": [
    "## <tt>Latihan 1\n",
    "### Buatkan timeseries Curah Hujan bulan Juni dan tambahkan garis percentile 98, mean, dan standard deviation\n",
    "\n",
    "Langkah 1: select data di bulan Juni dengan menggunakan `dt.month` dan definisikan dengan nama baru.\n",
    "\n",
    "Langkah 2: buatkan nilai persentil 98 dengan menggunakan `np.percentile`, untuk nilai mean dengan menggunakan `np.mean`, dan untuk nilai standard deviation dengan menggunakan `np.std`.\n",
    "\n",
    "Langkah 3: Plot data dengan menggunakan `plt.plot` dan buat garis secara horizontal dengan menggunakan `plt.axhline`.\n"
   ]
  },
  {
   "cell_type": "code",
   "execution_count": null,
   "metadata": {},
   "outputs": [],
   "source": [
    "\"\"\"Your code is here\"\"\""
   ]
  },
  {
   "cell_type": "markdown",
   "metadata": {},
   "source": [
    "## Plotting Histogram menggunakan `Matplotlib`\n",
    "Ploting data menjadi sebuah distribusi dapat menggunakan `hist`. Dan untuk menambah garis keterangan secara vertikal dapat menggunakan `axvline`. Selain itu, bentuk dari `hist` dapat diubah sesuai keinginan kita dengan mengganti `histtype`."
   ]
  },
  {
   "cell_type": "code",
   "execution_count": null,
   "metadata": {},
   "outputs": [],
   "source": [
    "# ploting histogram \n",
    "plt.figure(figsize=(12, 6))\n",
    "plt.hist(prec, 30, label='precipitation')\n",
    "plt.title('Precipitation Histogram')\n",
    "plt.xlabel('mm')\n",
    "plt.ylabel('frequency')\n",
    "plt.legend(loc='best')\n",
    "plt.show()\n",
    "\n",
    "# Ploting histogram with line\n",
    "plt.figure(figsize=(12, 6))\n",
    "plt.hist(prec, 30, label='precipitation', histtype='step')\n",
    "plt.title('Precipitation Histogram')\n",
    "plt.xlabel('mm')\n",
    "plt.ylabel('frequency')\n",
    "plt.legend(loc='best')\n",
    "plt.axvline(data_mean, color='red', linestyle='--', label='mean')\n",
    "plt.axvline(data_std, color='orange', linestyle=':', label='standard deviation')\n",
    "plt.axvline(percentile_90, color='green', linestyle='-.', label='percentile 90')\n",
    "plt.show()\n"
   ]
  },
  {
   "cell_type": "markdown",
   "metadata": {},
   "source": [
    "## Plotting Histogram menggunakan `Seaborns`\n",
    "Ploting histogram dengan menggunakan `seaborns` tidak berbeda jauh dibandingkan `matplotlib`, ini merupakan cara lain untuk menampilkan histogram. Ploting dapat menggunakan `histplot`. Selain itu, jumlah `bins` juga dapat diganti sesuai keinginan."
   ]
  },
  {
   "cell_type": "code",
   "execution_count": null,
   "metadata": {},
   "outputs": [],
   "source": [
    "# ploting histogram\n",
    "plt.figure(figsize=(12, 6))\n",
    "sns.histplot(prec, bins=30, label='precipitation', kde=True)\n",
    "plt.title('Precipitation Histogram')\n",
    "plt.xlabel('mm')\n",
    "plt.ylabel('frequency')\n",
    "plt.legend(loc='best')\n",
    "plt.show()"
   ]
  },
  {
   "cell_type": "markdown",
   "metadata": {},
   "source": [
    "## <tt>Latihan 2\n",
    "### Buatkan distribusi curah hujan diatas 20 mm/day\n",
    "\n",
    "Langkah 1: definisikan data hujan di atas 20 mm / day dengan nama baru.\n",
    "\n",
    "Langkah 2: plot data menggunakan `plt.hist`."
   ]
  },
  {
   "cell_type": "code",
   "execution_count": null,
   "metadata": {},
   "outputs": [],
   "source": [
    "\"\"\"Your code is here\"\"\""
   ]
  },
  {
   "cell_type": "markdown",
   "metadata": {},
   "source": [
    "## Plotting Boxplot menggunakan `seaborns`\n",
    "Ploting boxplot menggunakan `seaborns` dapat menggunakan `boxplot`. Ploting ini biasanya digunakan untuk melihat sebaran dari data tersebut."
   ]
  },
  {
   "cell_type": "code",
   "execution_count": null,
   "metadata": {},
   "outputs": [],
   "source": [
    "data_24['MONTH'] = data['DATE'].dt.month\n",
    "\n",
    "# Plotting the boxplot for each month\n",
    "plt.figure(figsize=(12, 6))\n",
    "sns.boxplot(x='MONTH', y='RRRR', data=data_24, color='red')\n",
    "plt.title('Monthly Rainfall Distribution')\n",
    "plt.xlabel('Month')\n",
    "plt.ylabel('Rainfall (mm)')\n",
    "plt.grid(True)\n",
    "plt.show()\n"
   ]
  },
  {
   "cell_type": "markdown",
   "metadata": {},
   "source": [
    "## Menghitung korelasi\n",
    "Terdapat 2 metode korelasi dan 2 libraries yang dapat digunakan, yaitu dengan menggunakan `pandas` dan `scipy`. Meskipun libraries yang digunakan berbeda, hasil yang didapatkan akan sama."
   ]
  },
  {
   "cell_type": "code",
   "execution_count": null,
   "metadata": {},
   "outputs": [],
   "source": [
    "# Correlation menggunakan pandas\n",
    "cor_pearson = prec.corr(tmin, method='pearson')\n",
    "print(f'Pearson correlation: {cor_pearson:.2f}')\n",
    "\n",
    "cor_kendall = prec.corr(tmin, method='kendall')\n",
    "print(f'Kendall correlation: {cor_kendall:.2f}')\n",
    "\n",
    "\n",
    "# Correlation menggunakan scipy\n",
    "pearson_coef, pearson_p = sps.pearsonr(prec, tmin)\n",
    "print(f'Pearson correlation: {pearson_coef:.2f}')\n",
    "\n",
    "kendall_coef, kendall_p = sps.kendalltau(prec, tmin)\n",
    "print(f'Kendall correlation: {kendall_coef:.2f}')\n"
   ]
  },
  {
   "cell_type": "markdown",
   "metadata": {},
   "source": [
    "## Menghitung regresi linear\n",
    "Menghitung regresi linear dapat menggunakan `linregress`. Regresi linear biasanya mem-ploting data secara `scatter` (untuk melihat sebaran data) dan garis regresi tersebut."
   ]
  },
  {
   "cell_type": "code",
   "execution_count": null,
   "metadata": {},
   "outputs": [],
   "source": [
    "# Regresi linear\n",
    "slope, intercept, r_value, p_value, std_err = sps.linregress(prec, tmin)\n",
    "\n",
    "# Menghitung nilai slope yang baru\n",
    "new_slope = prec * slope + intercept\n",
    "\n",
    "print(f'slope value: {slope:.2f}')\n",
    "print(f'intercept value: {intercept:.2f}')\n",
    "print(f'new slope value: {np.mean(new_slope):.2f}')\n",
    "print(f'r value: {r_value:.2f}')\n",
    "\n",
    "# Ploting correlation, scatter\n",
    "plt.figure(figsize=(12, 6))\n",
    "plt.scatter(prec, tmin, label='data points')\n",
    "plt.plot(prec, new_slope, color='red', label='regression')\n",
    "plt.title('Precipitation-Min Temperature Correlation')\n",
    "plt.xlabel('precipitation (mm)')\n",
    "plt.ylabel('Min Temperature (C)')\n",
    "\n",
    "# Display R-value on the plot\n",
    "plt.plot([], [], ' ', label=f'R-value: {r_value:.2f}')\n",
    "# plt.text(1, 1, f'R-value: {r_value:.2f}', fontsize=12, color='blue')\n",
    "\n",
    "plt.legend(loc='upper right')\n",
    "plt.show()"
   ]
  },
  {
   "cell_type": "markdown",
   "metadata": {},
   "source": [
    "## <tt>Latihan 3\n",
    "### Plot korelasi antara RRRR diatas 10 mm/day dan Tmin\n",
    "\n",
    "Langkah 1: definisikan hujan diatas 10 mm dan buat dengan nama baru.\n",
    "\n",
    "Langkah 2: definisikan data curah hujan dan suhu minimum masing-masing dengan nama baru\n",
    "\n",
    "Langkah 3: menggunakan `sps.linregress` untuk mendapatkan linear regression agar mendapatkan nilai `slope, intercept,` dan `r`.\n",
    "\n",
    "Langkah 4: Hitunglah nilai slope yang baru\n",
    "\n",
    "Langkah 5: plot hasil dengan menggunakan `plt.scatter` untuk mengetahui sebarannya.\n",
    "\n",
    "Langkah 6: plot garis regresinya dengan menggunakan `plt.plot`.\n",
    "\n"
   ]
  },
  {
   "cell_type": "code",
   "execution_count": null,
   "metadata": {},
   "outputs": [],
   "source": [
    "\"\"\"Your code is here\"\"\""
   ]
  },
  {
   "cell_type": "markdown",
   "metadata": {},
   "source": [
    "## Menampilkan polinomial\n",
    "Menghitung nilai polinomial dapat menggunakan `polyfit` dan `poly1d`. "
   ]
  },
  {
   "cell_type": "code",
   "execution_count": null,
   "metadata": {},
   "outputs": [],
   "source": [
    "polin1 = np.poly1d(np.polyfit(prec, tmin, 1))\n",
    "polin2 = np.poly1d(np.polyfit(prec, tmin, 2))\n",
    "\n",
    "# Ploting correlation, polinom\n",
    "plt.figure(figsize=(12, 6))\n",
    "plt.scatter(prec, tmin, label='data points')\n",
    "plt.plot(prec, polin1(prec), color='red', label='regression 1 line')\n",
    "plt.plot(prec, polin2(prec), color='green', label='regression 2 line')\n",
    "plt.title('Precipitation-Min Temperature Correlation')\n",
    "plt.xlabel('precipitation (mm)')\n",
    "plt.ylabel('Min Temperature (C)')\n",
    "\n",
    "plt.legend(loc='upper right')\n",
    "plt.show()"
   ]
  },
  {
   "cell_type": "markdown",
   "metadata": {},
   "source": [
    "## <tt>Latihan tambahan\n",
    "### Plotting regresi 2 line antara curah hujan diatas 10 mm/day dan Tmin\n",
    "\n",
    "Langkah 1: definisikan nilai polinomial dengan data curah hujan dan suhu minimum yang sudah diseleksi\n",
    "\n",
    "Langkah 2: plot hasil dengan menggunakan `plt.scatter` untuk mengetahui sebarannya.\n",
    "\n",
    "Langkah 3: plot garis regresinya dengan menggunakan `plt.plot`."
   ]
  },
  {
   "cell_type": "code",
   "execution_count": null,
   "metadata": {},
   "outputs": [],
   "source": [
    "\"\"\"Your code is here\"\"\""
   ]
  }
 ],
 "metadata": {
  "kernelspec": {
   "display_name": "Python 3",
   "language": "python",
   "name": "python3"
  },
  "language_info": {
   "codemirror_mode": {
    "name": "ipython",
    "version": 3
   },
   "file_extension": ".py",
   "mimetype": "text/x-python",
   "name": "python",
   "nbconvert_exporter": "python",
   "pygments_lexer": "ipython3",
   "version": "3.11.4"
  }
 },
 "nbformat": 4,
 "nbformat_minor": 2
}
